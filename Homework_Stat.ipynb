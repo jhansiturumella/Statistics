{
 "cells": [
  {
   "cell_type": "markdown",
   "metadata": {},
   "source": [
    "## Covariance"
   ]
  },
  {
   "cell_type": "markdown",
   "metadata": {},
   "source": [
    "__Covariance__<br>\n",
    "\n",
    "The covariance of two variables (x and y) can be represented as cov(x,y). If E[x] is the expected value or mean of a sample ‘x’, then cov(x,y) can be represented in the following way:<br><br>\n",
    "\n",
    "$$ Cov(x,y) =  \\sum_{i=0}^n \\frac {({x_{i}- \\bar{x}})({y_{j}- \\bar{y}})}{n}$$<br><br>\n",
    "\n",
    "If we look at a single variable, say ‘x’, cov(x,x), the expression can be written in the following way:<br>\n",
    "\n",
    "$$ Cov(x,x) =  \\sum_{i=0}^n \\frac {({x_{i}- \\bar{x}})({x_{j}- \\bar{x}})}{n}$$\n",
    "\n",
    "For a sample covariance, the formula is slightly adjusted:\n",
    "\n",
    "   $$ Cov(x,y) =  \\sum_{i=0}^n \\frac {({x_{i}- \\bar{x}})({y_{j}- \\bar{y}})}{n - 1}$$<br>\n",
    "\n",
    "   where: ${x_{i}}$ = the values of the x-variable <br>\n",
    "\n",
    "${y_{i}}$ = the values of the y-variable <br>\n",
    "\n",
    "$\\bar{x}$ = the mean (average) of the x-variable <br>\n",
    "\n",
    "$\\bar{y}$ = the mean (average) of the y-variable <br>\n",
    "\n",
    "n = the number of the data points<br>\n",
    "\n",
    "n - 1 = degree of freedom<br><br>Degrees of freedom is the number of independent data points that went into calculating the estimate. As we see in the example above, it is not necessarily equal to the number of items in the sample (n).<br>Covariance is used to analyze the linear relationship between the two variable.The positive and negative value in covariance matrix denotes the increasing and decreasing relationship between the two variables.<br>\n",
    "\n",
    "Message Input"
   ]
  },
  {
   "cell_type": "markdown",
   "metadata": {},
   "source": [
    "## Bias of estimator"
   ]
  },
  {
   "cell_type": "markdown",
   "metadata": {},
   "source": [
    "The concept of bias is related to sampling distribution of the statistic. Consider, for example, a random sample X1,X2,⋯Xn from N(μ,σ2). Then, it is easy to observe that, the sampling distribution of the sample mean X¯ is N(μ,1nσ2). we note that, E(X¯)=μ. That is, the center of the sampling distribution of X¯ is also μ. Now consider, the statistics,\n",
    "S21=1n−1∑i=1n(Xi−X¯)2,S22=1n∑i=1n(Xi−X¯)2\n",
    "as estimators of the parameter σ2. It can be shown that\n",
    "E(S21)=σ2 and E(S22)=n−1nσ2\n",
    "The sampling distribution of S21 is centered at σ2, where as that of S22 is not. We say that, the estimator S22 is a biased estimator for σ2. Now using the definition of bias, we get the amount of bias in S22 in estimating σ2."
   ]
  },
  {
   "cell_type": "code",
   "execution_count": null,
   "metadata": {},
   "outputs": [],
   "source": []
  }
 ],
 "metadata": {
  "kernelspec": {
   "display_name": "Python 3",
   "language": "python",
   "name": "python3"
  },
  "language_info": {
   "codemirror_mode": {
    "name": "ipython",
    "version": 3
   },
   "file_extension": ".py",
   "mimetype": "text/x-python",
   "name": "python",
   "nbconvert_exporter": "python",
   "pygments_lexer": "ipython3",
   "version": "3.6.5"
  },
  "toc": {
   "base_numbering": 1,
   "nav_menu": {},
   "number_sections": true,
   "sideBar": true,
   "skip_h1_title": false,
   "title_cell": "Table of Contents",
   "title_sidebar": "Contents",
   "toc_cell": false,
   "toc_position": {},
   "toc_section_display": true,
   "toc_window_display": false
  },
  "varInspector": {
   "cols": {
    "lenName": 16,
    "lenType": 16,
    "lenVar": 40
   },
   "kernels_config": {
    "python": {
     "delete_cmd_postfix": "",
     "delete_cmd_prefix": "del ",
     "library": "var_list.py",
     "varRefreshCmd": "print(var_dic_list())"
    },
    "r": {
     "delete_cmd_postfix": ") ",
     "delete_cmd_prefix": "rm(",
     "library": "var_list.r",
     "varRefreshCmd": "cat(var_dic_list()) "
    }
   },
   "types_to_exclude": [
    "module",
    "function",
    "builtin_function_or_method",
    "instance",
    "_Feature"
   ],
   "window_display": false
  }
 },
 "nbformat": 4,
 "nbformat_minor": 2
}
