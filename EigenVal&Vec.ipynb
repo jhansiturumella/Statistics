{
 "cells": [
  {
   "cell_type": "code",
   "execution_count": 1,
   "metadata": {},
   "outputs": [],
   "source": [
    "import pandas as pd\n",
    "import numpy as np"
   ]
  },
  {
   "cell_type": "markdown",
   "metadata": {},
   "source": [
    "Eigenvectors are unit vectors, which means that their length or magnitude is equal to 1.0. They are often referred as right vectors, which simply means a column vector (as opposed to a row vector or a left vector). A right-vector is a vector as we understand them.\n",
    "\n",
    "Eigenvalues are coefficients applied to eigenvectors that give the vectors their length or magnitude. For example, a negative eigenvalue may reverse the direction of the eigenvector as part of scaling it.\n",
    "\n",
    "Often an eigenvalue is found first, then an eigenvector is found to solve the equation as a set of coefficients.\n",
    "\n",
    "The eigendecomposition can be calculated in NumPy using the eig() function.\n",
    "\n"
   ]
  },
  {
   "cell_type": "markdown",
   "metadata": {},
   "source": [
    "## My Understanding with example"
   ]
  },
  {
   "cell_type": "markdown",
   "metadata": {},
   "source": [
    "Imagine we have a 2 X 2 matrix and we need to find the eigen values and vectors of the matrix"
   ]
  },
  {
   "cell_type": "code",
   "execution_count": 61,
   "metadata": {
    "scrolled": true
   },
   "outputs": [
    {
     "data": {
      "text/plain": [
       "matrix([[ 1.5,  0. ,  1. ],\n",
       "        [-0.5,  0.5, -0.5],\n",
       "        [-0.5,  0. ,  0. ]])"
      ]
     },
     "execution_count": 61,
     "metadata": {},
     "output_type": "execute_result"
    }
   ],
   "source": [
    "B = np.matrix([[1.5,0,1],[-0.5,0.5,-0.5], [-0.5, 0,0]])\n",
    "B"
   ]
  },
  {
   "cell_type": "code",
   "execution_count": 90,
   "metadata": {},
   "outputs": [
    {
     "name": "stdout",
     "output_type": "stream",
     "text": [
      "[[1]\n",
      " [1]\n",
      " [1]]\n",
      "[[ 1. ]\n",
      " [-0.2]\n",
      " [-0.2]]\n",
      "[[ 1.        ]\n",
      " [-0.38461538]\n",
      " [-0.38461538]]\n"
     ]
    }
   ],
   "source": [
    "I = np.matrix([[1],[1],[1]]) # Assume an identity matrix\n",
    "print(I)\n",
    "mat = B*I\n",
    "## From the above step we get 1st eigen value as 2.5 and eigen vector as ([[ 1. ], [-0.2], [-0.2]])\n",
    "#Lets repeat the same step but now consider matrix as the above and repeat the same step with Identity matrix.\n",
    "\n",
    "B1 = mat/2.5  # This is making 1st value as 1, \n",
    "print(B1)\n",
    "mat2 = B*B1\n",
    "# I would like to keep the first value of the matrix as 1 always and hence i will divide by 1st value of the matrix.\n",
    "#So now i am dividing by 1.3 for whole matrix\n",
    "\n",
    "B2 = mat2/1.3\n",
    "print(B2)"
   ]
  },
  {
   "cell_type": "code",
   "execution_count": 89,
   "metadata": {},
   "outputs": [
    {
     "name": "stdout",
     "output_type": "stream",
     "text": [
      "92.3076923076923\n"
     ]
    }
   ],
   "source": [
    "## Error calculation for eigen values\n",
    "\n",
    "Ea = (abs(1.3-2.5)/1.3)*100\n",
    "print(Ea)"
   ]
  },
  {
   "cell_type": "markdown",
   "metadata": {},
   "source": [
    "I would like to keep the first value of the matrix as 1 always and hence i will divide by 1st value of the matrix.\n",
    "\n",
    "So now i am dividing by 1.3 for whole matrix. This process is continued until the error is reduced to 1"
   ]
  },
  {
   "cell_type": "markdown",
   "metadata": {},
   "source": [
    "## Using eig() function from numpy for same example"
   ]
  },
  {
   "cell_type": "code",
   "execution_count": 58,
   "metadata": {},
   "outputs": [],
   "source": [
    "\n",
    "from numpy import array\n",
    "from numpy.linalg import eig"
   ]
  },
  {
   "cell_type": "code",
   "execution_count": 59,
   "metadata": {},
   "outputs": [],
   "source": [
    "values, vectors = eig(B)"
   ]
  },
  {
   "cell_type": "code",
   "execution_count": 60,
   "metadata": {},
   "outputs": [
    {
     "name": "stdout",
     "output_type": "stream",
     "text": [
      "[0.5 1.  0.5]\n",
      "[[ 0.          0.81649658 -0.70490738]\n",
      " [ 1.         -0.40824829  0.07881104]\n",
      " [ 0.         -0.40824829  0.70490738]]\n"
     ]
    }
   ],
   "source": [
    "print(values)\n",
    "print(vectors)"
   ]
  },
  {
   "cell_type": "markdown",
   "metadata": {},
   "source": [
    "## Formula for Eigen Values and Vectors"
   ]
  },
  {
   "cell_type": "markdown",
   "metadata": {},
   "source": [
    " Ax=λx, then  A(cx) = λ(cx), where x ≠ 0,\n",
    "so cx is also an eigenvector of A if c ≠ 0.\n",
    "\n",
    "Therefore, if Ax = λx,  then A(-x) = λ(-x), where x ≠ 0, so  -x  is also an eigenvector of A."
   ]
  },
  {
   "cell_type": "markdown",
   "metadata": {},
   "source": [
    "$ A . V1 =  \\lambda . V1 $"
   ]
  },
  {
   "cell_type": "markdown",
   "metadata": {},
   "source": [
    "$ (A - \\lambda) . V1 = 0$ "
   ]
  },
  {
   "cell_type": "markdown",
   "metadata": {},
   "source": [
    "$ | (\\lambda . I - A) |  = 0$ \n",
    "\n",
    "det (A – λI) = 0\n",
    " \n",
    "Where I is the identity matrix, which is blank apart from a series of 1s running diagonally down the matrix. “Det” refers to the determinant of the matrix, which for a general matrix:"
   ]
  },
  {
   "cell_type": "markdown",
   "metadata": {},
   "source": [
    "# Eigen Values Calculation"
   ]
  },
  {
   "cell_type": "markdown",
   "metadata": {},
   "source": [
    "$A = Matrix$\n",
    "\n",
    "$\\vec{v} = eigen Vector$\n",
    "\n",
    "$\\lambda = eigen Value$\n",
    "\n",
    "$I = Identity Matrix$"
   ]
  },
  {
   "cell_type": "markdown",
   "metadata": {},
   "source": [
    "\n",
    "In general, the eigenvector v⃗ of a matrix A is the vector for which the following holds:\n",
    "\n",
    "   \\begin{equation*} A \\vec{v} = \\lambda \\vec{v} \\end{equation*}\n",
    "\n",
    "where λ is a scalar value called the ‘eigenvalue’. This means that the linear transformation A on vector \\vec{v} is completely defined by \\lambda.\n",
    "\n",
    "We can rewrite equation as follows:\n",
    "\n",
    "   \\begin{eqnarray*} A \\vec{v} - \\lambda \\vec{v} = 0 \\\\  \\Rightarrow \\vec{v} (A - \\lambda I) = 0, \\end{eqnarray*}\n",
    "\n",
    "where I is the identity matrix of the same dimensions as A."
   ]
  },
  {
   "cell_type": "markdown",
   "metadata": {},
   "source": [
    "To determine the eigenvalues for this example, we substitute A in equation and obtain:\n",
    "\n",
    "The transformation in this case is a simple scaling with factor 2 in the horizontal direction and factor 0.5 in the vertical direction, such that the transformation matrix A is defined as:\n",
    "\n",
    "   A=\\begin{bmatrix} 2 & 0 \\\\ 0 & 0.5 \\end{bmatrix}.\n",
    "\n",
    "   \\begin{equation*} Det\\begin{pmatrix}2-\\lambda&3\\\\2&1-\\lambda\\end{pmatrix}=0. \\end{equation*}\n",
    "\n",
    "Calculating the determinant gives:\n",
    "\n",
    "   \\begin{align*} &(2-\\lambda)(1-\\lambda) - 6 = 0\\\\ \\Rightarrow &2 - 2 \\lambda - \\lambda - \\lambda^2 -6 = 0\\\\ \\Rightarrow &{\\lambda}^2 - 3 \\lambda -4 = 0. \\end{align*}\n",
    "\n",
    "To solve this quadratic equation in \\lambda, we find the discriminant:\n",
    "\n",
    "  \\begin{equation*} D = b^2 -4ac = (-3)^2 -4*1*(-4) = 9+16 = 25. \\end{equation*}\n",
    "\n",
    "Since the discriminant is strictly positive, this means that two different values for \\lambda exist:\n",
    "\n",
    "   \\begin{align*}  \\lambda _1 &= \\frac{-b - \\sqrt{D}}{2a} = \\frac{3-5}{2} = -1,\\\\ \\lambda _2 &= \\frac{-b + \\sqrt{D}}{2a} = \\frac{3+5}{2} = 4. \\end{align*}\n",
    "\n",
    "We have now determined the two eigenvalues \\lambda_1 and \\lambda_2. Note that a square matrix of size N \\times N always has exactly N eigenvalues, each with a corresponding eigenvector. The eigenvalue specifies the size of the eigenvector."
   ]
  },
  {
   "cell_type": "markdown",
   "metadata": {},
   "source": [
    "To determine the eigenvalues for this example, we substitute A in the above equations and obtain:\n",
    "\n",
    "The transformation in this case is a simple scaling with factor 2 in the horizontal direction and factor 0.5 in the vertical direction, such that the transformation matrix A is defined as:\n",
    "\n",
    "   A=\\begin{bmatrix} 2 & 0 \\\\ 0 & 0.5 \\end{bmatrix}.\n",
    "\n",
    "  \\begin{equation*} Det\\begin{pmatrix}2-\\lambda&3\\\\2&1-\\lambda\\end{pmatrix}=0. \\end{equation*}\n",
    "\n",
    "Calculating the determinant gives:\n",
    "\n",
    "   \\begin{align*} &(2-\\lambda)(1-\\lambda) - 6 = 0\\\\ \\Rightarrow &2 - 2 \\lambda - \\lambda - \\lambda^2 -6 = 0\\\\ \\Rightarrow &{\\lambda}^2 - 3 \\lambda -4 = 0. \\end{align*}\n",
    "\n",
    "To solve this quadratic equation in \\lambda, we find the discriminant:\n",
    "\n",
    "  \\begin{equation*} D = b^2 -4ac = (-3)^2 -4*1*(-4) = 9+16 = 25. \\end{equation*}\n",
    "\n",
    "Since the discriminant is strictly positive, this means that two different values for \\lambda exist:\n",
    "\n",
    "   \\begin{align*}  \\lambda _1 &= \\frac{-b - \\sqrt{D}}{2a} = \\frac{3-5}{2} = -1,\\\\ \\lambda _2 &= \\frac{-b + \\sqrt{D}}{2a} = \\frac{3+5}{2} = 4. \\end{align*}\n",
    "\n",
    "We have now determined the two eigenvalues \\lambda_1 and \\lambda_2. Note that a square matrix of size N \\times N always has exactly N eigenvalues, each with a corresponding eigenvector. The eigenvalue specifies the size of the eigenvector."
   ]
  },
  {
   "cell_type": "markdown",
   "metadata": {},
   "source": [
    "## Finding Eigen Vectors by replacing Eigen Values in the above equation"
   ]
  },
  {
   "cell_type": "markdown",
   "metadata": {},
   "source": [
    "Equation is \\begin{equation*} A \\vec{v} = \\lambda \\vec{v} \\end{equation*}"
   ]
  },
  {
   "cell_type": "markdown",
   "metadata": {},
   "source": [
    "we get directly λ1=1 and λ2=3. \n",
    "\n",
    "The above expression is usually referred as the characteristic polinomial or characteristic equation of a matrix. \n",
    "Plugging λ1 into (1), we get:\n",
    "[1103][v11v12]=1[v11v12]"
   ]
  },
  {
   "cell_type": "markdown",
   "metadata": {},
   "source": [
    "we get directly λ1 = -1 and λ2 = 4. The above expression is usually referred as the characteristic polinomial or characteristic equation of a matrix. \n",
    "Replacing λ1 into eqaution, we get:\n",
    "$$    \n",
    "\\begin{equation}\n",
    "  \\begin{bmatrix}\n",
    "    2 & 3 \\\\ 2 & 1 \n",
    "   \\end{bmatrix} \n",
    "   %\n",
    "  \\begin{bmatrix}\n",
    "     v11 \\\\ \n",
    "     v12 \\\\\n",
    "  \\end{bmatrix}\n",
    "\\end{equation} = $ -1  \\cdot \\begin{bmatrix} v11 \\\\ v12 \\\\ \\end{bmatrix}$\n",
    "$$"
   ]
  },
  {
   "cell_type": "markdown",
   "metadata": {},
   "source": [
    "from which we get v11=−2v12. That is, any vector v1=[v11,v12] where v11=−2v12 is an eigenvector of A with eigenvalue 1. \n",
    "Replacing λ2 into equation, we get:\n",
    "    \n",
    "$$\n",
    "\\begin{equation}\n",
    "  \\begin{bmatrix}\n",
    "    2 & 3 \\\\ 2 & 1 \n",
    "   \\end{bmatrix} \n",
    "   %\n",
    "  \\begin{bmatrix}\n",
    "     v21 \\\\ \n",
    "     v22 \\\\\n",
    "  \\end{bmatrix}\n",
    "\\end{equation} = $ 4  \\cdot \\begin{bmatrix} v11 \\\\ v12 \\\\ \\end{bmatrix}$\n",
    "$$ \n",
    "    "
   ]
  },
  {
   "cell_type": "markdown",
   "metadata": {},
   "source": [
    "from which we get v21=0 and v22∈R. That is, any vector v2=[v21,v22] where v21=0 is an eigenvector of A with eigenvalue 3.\n"
   ]
  },
  {
   "cell_type": "markdown",
   "metadata": {},
   "source": [
    "$$A\\left[\\mathbf{v_1 v_2}\\right] = \\left[\\begin{array}{cc}2 & 3\\\\2 & 1\\\\\\end{array}\\right]\\left[\\begin{array}{cc}v_{11} & v_{21}\\\\v_{12} & v_{22}\\\\\\end{array}\\right] =\\left[\\begin{array}{cc}v_{11} & v_{21}\\\\v_{12} & v_{22}\\\\\\end{array}\\right]\\left[\\begin{array}{cc}\\lambda_1 & 0\\\\0 & \\lambda_2\\\\\\end{array}\\right] =\\left[\\mathbf{v_1 v_2}\\right]\\left[\\begin{array}{cc}\\lambda_1 & 0\\\\0 & \\lambda_2\\\\\\end{array}\\right]$$"
   ]
  },
  {
   "cell_type": "markdown",
   "metadata": {},
   "source": [
    "If we replace:"
   ]
  },
  {
   "cell_type": "markdown",
   "metadata": {},
   "source": [
    "Diagonal Matrix :\n",
    "\n",
    "$$\\Lambda = \\left[\\begin{array}{cc}\\lambda_1 & 0\\\\0 & \\lambda_2\\\\\\end{array}\\right]$$"
   ]
  },
  {
   "cell_type": "markdown",
   "metadata": {},
   "source": [
    "Vector Matrix:\n",
    "\n",
    "$$V = \\left[\\mathbf{v_1 v_2}\\right]$$"
   ]
  },
  {
   "cell_type": "markdown",
   "metadata": {},
   "source": [
    "it is also true that:"
   ]
  },
  {
   "cell_type": "markdown",
   "metadata": {},
   "source": [
    "$$ AV = V\\Lambda $$"
   ]
  },
  {
   "cell_type": "markdown",
   "metadata": {},
   "source": [
    "$$ \\begin{equation}A = V\\Lambda V^{-1}\\label{eq:AVLV}\\end{equation}$$"
   ]
  },
  {
   "cell_type": "markdown",
   "metadata": {},
   "source": [
    "If we replace A matrix with Co variance matrix:"
   ]
  },
  {
   "cell_type": "markdown",
   "metadata": {},
   "source": [
    "\\begin{equation*} \\Sigma = \\begin{bmatrix} \\sigma(x,x) & \\sigma(x,y) \\\\[0.3em] \\sigma(y,x) & \\sigma(y,y) \\\\[0.3em] \\end{bmatrix} \\end{equation*}"
   ]
  },
  {
   "cell_type": "markdown",
   "metadata": {},
   "source": [
    "\\begin{equation*}  \\Sigma \\vec{v} = \\lambda \\vec{v} \\end{equation*}\n",
    "where vec v is an eigenvector of $\\Sigma \\vec{v}$ , and λ is the corresponding eigenvalue\n",
    "\n",
    "For each eigenvector-eigenvalue pair of matrix \\Sigma. In the 2D case, we obtain two eigenvectors and two eigenvalues. The system of two equations defined by equation  can be represented efficiently using matrix notation:\n",
    "\n",
    "   \\begin{equation*}  \\Sigma \\, V = V \\, D \\end{equation*}\n",
    "\n",
    "where V is the matrix whose columns are the eigenvectors of \\Sigma and D is the diagonal matrix whose non-zero elements are the corresponding eigenvalues.\n",
    "\n",
    "This means that we can represent the covariance matrix as a function of its eigenvectors and eigenvalues:\n",
    "\n",
    "   \\begin{equation*}  \\Sigma = V \\, D \\, V^{-1} \\end{equation*}\n",
    "   \n"
   ]
  },
  {
   "cell_type": "markdown",
   "metadata": {},
   "source": [
    "## Task 3\n",
    "Replicate all the steps of https://sebastianraschka.com/Articles/2014_pca_step_by_step.html up to the end of point 5. You don't need to do point 3)a because our focus is on the Covariance matrix."
   ]
  },
  {
   "cell_type": "markdown",
   "metadata": {},
   "source": [
    "Referring to our previous example, we can join both eigenvectors and eigenvalues in a single matrix equation:"
   ]
  },
  {
   "cell_type": "markdown",
   "metadata": {},
   "source": []
  },
  {
   "cell_type": "code",
   "execution_count": 74,
   "metadata": {},
   "outputs": [],
   "source": [
    "import numpy as np\n",
    "\n",
    "np.random.seed(23423) # random seed for consistency\n",
    "\n",
    "# A reader pointed out that Python 2.7 would raise a\n",
    "# \"ValueError: object of too small depth for desired array\".\n",
    "# This can be avoided by choosing a smaller random seed, e.g. 1\n",
    "# or by completely omitting this line, since I just used the random seed for\n",
    "# consistency.\n",
    "\n",
    "mu_vec1 = np.array([0,0,0])\n",
    "cov_mat1 = np.array([[1,0,0],[0,1,0],[0,0,1]])\n",
    "class1_sample = np.random.multivariate_normal(mu_vec1, cov_mat1, 20).T\n",
    "assert class1_sample.shape == (3,20), \"The matrix has not the dimensions 3x20\"\n",
    "\n",
    "mu_vec2 = np.array([1,1,1])\n",
    "cov_mat2 = np.array([[1,0,0],[0,1,0],[0,0,1]])\n",
    "class2_sample = np.random.multivariate_normal(mu_vec2, cov_mat2, 20).T\n",
    "assert class2_sample.shape == (3,20), \"The matrix has not the dimensions 3x20\""
   ]
  },
  {
   "cell_type": "markdown",
   "metadata": {},
   "source": [
    "$$A\\left[\\mathbf{v_1 v_2}\\right] = \\left[\\begin{array}{cc}1 & 0\\\\1 & 3\\\\\\end{array}\\right]\\left[\\begin{array}{cc}v_{11} & v_{21}\\\\v_{12} & v_{22}\\\\\\end{array}\\right] =\\left[\\begin{array}{cc}v_{11} & v_{21}\\\\v_{12} & v_{22}\\\\\\end{array}\\right]\\left[\\begin{array}{cc}\\lambda_1 & 0\\\\0 & \\lambda_2\\\\\\end{array}\\right] =\\left[\\mathbf{v_1 v_2}\\right]\\left[\\begin{array}{cc}\\lambda_1 & 0\\\\0 & \\lambda_2\\\\\\end{array}\\right]$$\n",
    "\n",
    "\n",
    "\n"
   ]
  },
  {
   "cell_type": "code",
   "execution_count": 75,
   "metadata": {},
   "outputs": [
    {
     "name": "stdout",
     "output_type": "stream",
     "text": [
      "Populating the interactive namespace from numpy and matplotlib\n"
     ]
    },
    {
     "name": "stderr",
     "output_type": "stream",
     "text": [
      "C:\\Users\\Anjali Dontaraju\\Anaconda3\\lib\\site-packages\\IPython\\core\\magics\\pylab.py:160: UserWarning: pylab import has clobbered these variables: ['mat']\n",
      "`%matplotlib` prevents importing * from pylab and numpy\n",
      "  \"\\n`%matplotlib` prevents importing * from pylab and numpy\"\n"
     ]
    },
    {
     "data": {
      "image/png": "[encoded data removed]",
      "text/plain": [
       "<Figure size 576x576 with 1 Axes>"
      ]
     },
     "metadata": {},
     "output_type": "display_data"
    }
   ],
   "source": [
    "%pylab inline\n",
    "from matplotlib import pyplot as plt\n",
    "from mpl_toolkits.mplot3d import Axes3D\n",
    "from mpl_toolkits.mplot3d import proj3d\n",
    "\n",
    "fig = plt.figure(figsize=(8,8))\n",
    "ax = fig.add_subplot(111, projection='3d')\n",
    "plt.rcParams['legend.fontsize'] = 10   \n",
    "ax.plot(class1_sample[0,:], class1_sample[1,:], class1_sample[2,:], 'o', markersize=8, color='blue', alpha=0.5, label='class1')\n",
    "ax.plot(class2_sample[0,:], class2_sample[1,:], class2_sample[2,:], '^', markersize=8, alpha=0.5, color='red', label='class2')\n",
    "\n",
    "plt.title('Samples for class 1 and class 2')\n",
    "ax.legend(loc='upper right')\n",
    "\n",
    "plt.show()"
   ]
  },
  {
   "cell_type": "code",
   "execution_count": 77,
   "metadata": {},
   "outputs": [],
   "source": [
    "all_samples = np.concatenate((class1_sample, class2_sample), axis=1)\n",
    "assert all_samples.shape == (3,40), \"The matrix has not the dimensions 3x40\""
   ]
  },
  {
   "cell_type": "code",
   "execution_count": 78,
   "metadata": {},
   "outputs": [
    {
     "name": "stdout",
     "output_type": "stream",
     "text": [
      "Mean Vector:\n",
      " [[0.59630221]\n",
      " [0.47965616]\n",
      " [0.56413655]]\n"
     ]
    }
   ],
   "source": [
    "mean_x = np.mean(all_samples[0,:])\n",
    "mean_y = np.mean(all_samples[1,:])\n",
    "mean_z = np.mean(all_samples[2,:])\n",
    "\n",
    "mean_vector = np.array([[mean_x],[mean_y],[mean_z]])\n",
    "\n",
    "print('Mean Vector:\\n', mean_vector)"
   ]
  },
  {
   "cell_type": "code",
   "execution_count": 80,
   "metadata": {},
   "outputs": [],
   "source": [
    "## Calculating Covariance Matrix"
   ]
  },
  {
   "cell_type": "code",
   "execution_count": 81,
   "metadata": {},
   "outputs": [
    {
     "name": "stdout",
     "output_type": "stream",
     "text": [
      "Covariance Matrix:\n",
      " [[1.40403163 0.03231882 0.73877371]\n",
      " [0.03231882 1.28593565 0.15724031]\n",
      " [0.73877371 0.15724031 1.39929696]]\n"
     ]
    }
   ],
   "source": [
    "cov_mat = np.cov([all_samples[0,:],all_samples[1,:],all_samples[2,:]])\n",
    "print('Covariance Matrix:\\n', cov_mat)"
   ]
  },
  {
   "cell_type": "code",
   "execution_count": 87,
   "metadata": {},
   "outputs": [
    {
     "name": "stdout",
     "output_type": "stream",
     "text": [
      "[[-0.69361894 -0.68995971  0.20699845]\n",
      " [-0.15212732 -0.14057467 -0.97831285]\n",
      " [-0.70409519  0.71006645  0.00745647]]\n",
      "[2.1610519  0.65031339 1.27789895]\n",
      "Eigenvalue 1 from covariance matrix: 2.1610518970757004\n",
      "----------------------------------------\n",
      "Eigenvalue 2 from covariance matrix: 0.6503133918524734\n",
      "----------------------------------------\n",
      "Eigenvalue 3 from covariance matrix: 1.2778989526465876\n",
      "----------------------------------------\n"
     ]
    }
   ],
   "source": [
    "# eigenvectors and eigenvalues for the from the scatter matrix\n",
    "#eig_val_sc, eig_vec_sc = np.linalg.eig(scatter_matrix)\n",
    "\n",
    "# eigenvectors and eigenvalues for the from the covariance matrix\n",
    "eig_val_cov, eig_vec_cov = np.linalg.eig(cov_mat)\n",
    "print(eig_vec_cov)\n",
    "print(eig_val_cov)\n",
    "\n",
    "for i in range(len(eig_val_cov)):\n",
    "    #eigvec_sc = eig_vec_sc[:,i].reshape(1,3).T\n",
    "    eigvec_cov = eig_vec_cov[:,i].reshape(1,3).T\n",
    "    #assert eigvec_sc.all() == eigvec_cov.all(), 'Eigenvectors are not identical'\n",
    "\n",
    "    #print('Eigenvector {}: \\n{}'.format(i+1, eigvec_sc))\n",
    "    #print('Eigenvalue {} from scatter matrix: {}'.format(i+1, eig_val_sc[i]))\n",
    "    print('Eigenvalue {} from covariance matrix: {}'.format(i+1, eig_val_cov[i]))\n",
    "    #print('Scaling factor: ', eig_val_sc[i]/eig_val_cov[i])\n",
    "    print(40 * '-')"
   ]
  },
  {
   "cell_type": "code",
   "execution_count": 91,
   "metadata": {},
   "outputs": [
    {
     "ename": "SyntaxError",
     "evalue": "invalid syntax (<ipython-input-91-2933dd524d9d>, line 1)",
     "output_type": "error",
     "traceback": [
      "\u001b[1;36m  File \u001b[1;32m\"<ipython-input-91-2933dd524d9d>\"\u001b[1;36m, line \u001b[1;32m1\u001b[0m\n\u001b[1;33m    Referring to our previous example, we can join both eigenvectors and eigenvalues in a single matrix equation:\u001b[0m\n\u001b[1;37m               ^\u001b[0m\n\u001b[1;31mSyntaxError\u001b[0m\u001b[1;31m:\u001b[0m invalid syntax\n"
     ]
    }
   ],
   "source": [
    "Referring to our previous example, we can join both eigenvectors and eigenvalues in a single matrix equation:\n",
    "A[v1v2]=[1103][v11v12v21v22]=[v11v12v21v22][λ100λ2]=[v1v2][λ100λ2]\n",
    "If we replace:\n",
    "Λ=[λ100λ2]\n",
    "V=[v1v2]\n",
    "it is also true that:\n",
    "AV=VΛ\n",
    "A=VΛV−1(4)"
   ]
  },
  {
   "cell_type": "code",
   "execution_count": null,
   "metadata": {},
   "outputs": [],
   "source": [
    "np.random."
   ]
  }
 ],
 "metadata": {
  "kernelspec": {
   "display_name": "Python 3",
   "language": "python",
   "name": "python3"
  },
  "language_info": {
   "codemirror_mode": {
    "name": "ipython",
    "version": 3
   },
   "file_extension": ".py",
   "mimetype": "text/x-python",
   "name": "python",
   "nbconvert_exporter": "python",
   "pygments_lexer": "ipython3",
   "version": "3.6.5"
  },
  "toc": {
   "base_numbering": 1,
   "nav_menu": {},
   "number_sections": true,
   "sideBar": true,
   "skip_h1_title": false,
   "title_cell": "Table of Contents",
   "title_sidebar": "Contents",
   "toc_cell": false,
   "toc_position": {},
   "toc_section_display": true,
   "toc_window_display": false
  },
  "varInspector": {
   "cols": {
    "lenName": 16,
    "lenType": 16,
    "lenVar": 40
   },
   "kernels_config": {
    "python": {
     "delete_cmd_postfix": "",
     "delete_cmd_prefix": "del ",
     "library": "var_list.py",
     "varRefreshCmd": "print(var_dic_list())"
    },
    "r": {
     "delete_cmd_postfix": ") ",
     "delete_cmd_prefix": "rm(",
     "library": "var_list.r",
     "varRefreshCmd": "cat(var_dic_list()) "
    }
   },
   "types_to_exclude": [
    "module",
    "function",
    "builtin_function_or_method",
    "instance",
    "_Feature"
   ],
   "window_display": false
  }
 },
 "nbformat": 4,
 "nbformat_minor": 2
}
